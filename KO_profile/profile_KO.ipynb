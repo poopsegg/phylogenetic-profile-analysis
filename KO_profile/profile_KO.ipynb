{
 "cells": [
  {
   "cell_type": "code",
   "execution_count": 1,
   "id": "8c58f533",
   "metadata": {},
   "outputs": [],
   "source": [
    "import requests\n",
    "import re\n",
    "import pandas as pd\n",
    "import time"
   ]
  },
  {
   "cell_type": "code",
   "execution_count": 41,
   "id": "e292b6b4",
   "metadata": {},
   "outputs": [],
   "source": [
    "def KO_ID(name_KEGG):\n",
    "    url = f\"https://www.kegg.jp/entry/{name_KEGG}\"\n",
    "    headers = {\n",
    "         \"User-Agent\": \"Mozilla/5.0 (Macintosh; Intel Mac OS X 10_15_7) AppleWebKit/605.1.15 (KHTML, like Gecko) Version/15.4 Safari/605.1.15\"\n",
    "    }\n",
    "    resp = requests.get(url=url,headers=headers)\n",
    "    page_content = resp.text\n",
    "    obj = re.compile(r'<a href=\"/entry/(\\w+)\">K',re.S)\n",
    "    match = re.search(obj, page_content)\n",
    "    if match:\n",
    "        group_1 = match.group(1)\n",
    "    \n",
    "    resp.close()\n",
    "    time.sleep(1)\n",
    "    return group_1"
   ]
  },
  {
   "cell_type": "code",
   "execution_count": 72,
   "id": "a755ee84",
   "metadata": {},
   "outputs": [],
   "source": [
    "def catch_OC_ID(name_KO):\n",
    "    \n",
    "    url = f\"https://www.kegg.jp/entry/{name_KO}\"\n",
    "    headers = {\n",
    "         \"User-Agent\": \"Mozilla/5.0 (Macintosh; Intel Mac OS X 10_15_7) AppleWebKit/605.1.15 (KHTML, like Gecko) Version/15.4 Safari/605.1.15\"\n",
    "    }\n",
    "    resp = requests.get(url=url,headers=headers)\n",
    "    page_content_2 = resp.text\n",
    "    obj_2 = re.compile(r':&nbsp;</span></td><td><a href=\"/entry/(\\w+):',re.S)\n",
    "    result=obj_2.finditer(page_content_2)\n",
    "    identification=[]\n",
    "    for match in result:\n",
    "        identification.append(match.group(1))\n",
    "        \n",
    "        \n",
    "    resp.close()\n",
    "    time.sleep(2) \n",
    "    return identification\n",
    "\n"
   ]
  },
  {
   "cell_type": "code",
   "execution_count": null,
   "id": "f4374c9e",
   "metadata": {},
   "outputs": [],
   "source": [
    "#kegg_ID_list\n",
    "kegg_ID=open('/Users/user/Desktop/group1/原核/細菌/kegg_ID.txt')\n",
    "KEGG_ID=kegg_ID.read()\n",
    "KEGG_ID_list=KEGG_ID.split(\"\\n\")"
   ]
  },
  {
   "cell_type": "code",
   "execution_count": null,
   "id": "f9f03de8",
   "metadata": {},
   "outputs": [],
   "source": [
    "#species_ID_list\n",
    "species_ID=open('/Users/user/Desktop/group1/原核/細菌/seibutushu.txt')\n",
    "SPECIES_ID=species_ID.read()\n",
    "SPECIES_ID_list=SPECIES_ID.split(\"\\n\")"
   ]
  },
  {
   "cell_type": "code",
   "execution_count": null,
   "id": "aea8639c",
   "metadata": {},
   "outputs": [],
   "source": [
    "#pannas_and_csv_format\n",
    "li_df=pd.DataFrame()\n",
    "li_df=pd.DataFrame(columns=SPECIES_ID_list)\n",
    "li_df.to_csv('/Users/user/Desktop/group1/原核/細菌/LI_profile_list.csv')"
   ]
  },
  {
   "cell_type": "code",
   "execution_count": null,
   "id": "8fc80d99",
   "metadata": {},
   "outputs": [],
   "source": [
    "for n in KEGG_ID_list :\n",
    "    name = KO_ID(n)\n",
    "    catch=catch_OC_ID(name)\n",
    "    #print(catch)\n",
    "    print(n)\n",
    "    li_df.loc[n]=0\n",
    "    for x in catch:\n",
    "        for u in SPECIES_ID_list:\n",
    "            if x==u:\n",
    "                li_df.loc[n,u]=1\n",
    "            else:\n",
    "                pass\n",
    "li_df.to_csv('/Users/user/Desktop/group1/原核/細菌/LI_profile_list.csv', mode='a+', header=False)"
   ]
  },
  {
   "cell_type": "code",
   "execution_count": null,
   "id": "9452db68",
   "metadata": {},
   "outputs": [],
   "source": [
    "print(li_df)\n",
    "print(\"over\")"
   ]
  }
 ],
 "metadata": {
  "kernelspec": {
   "display_name": "Python 3 (ipykernel)",
   "language": "python",
   "name": "python3"
  },
  "language_info": {
   "codemirror_mode": {
    "name": "ipython",
    "version": 3
   },
   "file_extension": ".py",
   "mimetype": "text/x-python",
   "name": "python",
   "nbconvert_exporter": "python",
   "pygments_lexer": "ipython3",
   "version": "3.9.5"
  }
 },
 "nbformat": 4,
 "nbformat_minor": 5
}
