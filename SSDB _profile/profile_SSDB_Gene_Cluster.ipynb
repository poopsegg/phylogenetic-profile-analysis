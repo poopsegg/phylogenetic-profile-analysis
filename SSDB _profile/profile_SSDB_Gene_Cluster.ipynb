{
 "cells": [
  {
   "cell_type": "code",
   "execution_count": 1,
   "id": "adc8fa8d",
   "metadata": {},
   "outputs": [],
   "source": [
    "import requests\n",
    "import re\n",
    "import pandas as pd\n",
    "import time"
   ]
  },
  {
   "cell_type": "code",
   "execution_count": null,
   "id": "090ac067",
   "metadata": {},
   "outputs": [],
   "source": [
    "def catch_id (name):\n",
    "    url = \"https://www.kegg.jp/ssdb-bin/ssdb_gclust/\"\n",
    "    data = {\n",
    "        \"gap_width\": \"0\",\n",
    "        \"threshold\": \"400\",\n",
    "        \"exec_btn\": \"Go\",\n",
    "        \"org_gene\": \"f{name}\",\n",
    "        \".cgifields\": [\"show_disp\", \"threshold\"]\n",
    "    }\n",
    "    headers = {\n",
    "        \"User-Agent\": \"Mozilla/5.0 (Macintosh; Intel Mac OS X 10_15_7) AppleWebKit/537.36 (KHTML, like Gecko) Chrome/112.0.0.0 Safari/537.36\"\n",
    "    }\n",
    "    resp = requests.post(url=url, data=data, headers=headers)\n",
    "    page_content = resp.text\n",
    "    obj = re.compile(r'\">(\\w+)</a></td><td',re.S)\n",
    "    result=obj.finditer(page_content)\n",
    "    identification=[]\n",
    "    for match in result:\n",
    "        identification.append(match.group(1))\n",
    "        \n",
    "    resp.close()\n",
    "    time.sleep(2)\n",
    "        \n",
    "    return identification"
   ]
  },
  {
   "cell_type": "code",
   "execution_count": null,
   "id": "3e4d1bc4",
   "metadata": {},
   "outputs": [],
   "source": [
    "#kegg_ID_list\n",
    "kegg_ID=open('/Users/user/Desktop/group1/原核/細菌/kegg_ID.txt')\n",
    "KEGG_ID=kegg_ID.read()\n",
    "KEGG_ID_list=KEGG_ID.split(\"\\n\")"
   ]
  },
  {
   "cell_type": "code",
   "execution_count": null,
   "id": "363a1794",
   "metadata": {},
   "outputs": [],
   "source": [
    "#species_ID_list\n",
    "species_ID=open('/Users/user/Desktop/group1/原核/細菌/seibutushu.txt')\n",
    "SPECIES_ID=species_ID.read()\n",
    "SPECIES_ID_list=SPECIES_ID.split(\"\\n\")"
   ]
  },
  {
   "cell_type": "code",
   "execution_count": null,
   "id": "e64926d7",
   "metadata": {},
   "outputs": [],
   "source": [
    "#pannas_and_csv_format\n",
    "li_df=pd.DataFrame()\n",
    "li_df=pd.DataFrame(columns=SPECIES_ID_list)\n",
    "li_df.to_csv('/Users/user/Desktop/group1/原核/細菌/LI_profile_list.csv')"
   ]
  },
  {
   "cell_type": "code",
   "execution_count": null,
   "id": "121e0039",
   "metadata": {},
   "outputs": [],
   "source": [
    "for n in KEGG_ID_list :\n",
    "    name = KO_ID(n)\n",
    "    catch=catch_OC_ID(name)\n",
    "    #print(catch)\n",
    "    print(n)\n",
    "    li_df.loc[n]=0\n",
    "    for x in catch:\n",
    "        for u in SPECIES_ID_list:\n",
    "            if x==u:\n",
    "                li_df.loc[n,u]=1\n",
    "            else:\n",
    "                pass\n",
    "li_df.to_csv('/Users/user/Desktop/group1/原核/細菌/LI_profile_list.csv', mode='a+', header=False)"
   ]
  },
  {
   "cell_type": "code",
   "execution_count": null,
   "id": "cb0fa610",
   "metadata": {},
   "outputs": [],
   "source": [
    "print(li_df)\n",
    "print(\"over\")"
   ]
  }
 ],
 "metadata": {
  "kernelspec": {
   "display_name": "Python 3 (ipykernel)",
   "language": "python",
   "name": "python3"
  },
  "language_info": {
   "codemirror_mode": {
    "name": "ipython",
    "version": 3
   },
   "file_extension": ".py",
   "mimetype": "text/x-python",
   "name": "python",
   "nbconvert_exporter": "python",
   "pygments_lexer": "ipython3",
   "version": "3.9.5"
  }
 },
 "nbformat": 4,
 "nbformat_minor": 5
}
